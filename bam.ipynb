{
 "cells": [
  {
   "cell_type": "code",
   "execution_count": null,
   "metadata": {},
   "outputs": [],
   "source": [
    "import pysam\n",
    "import pandas as pd\n",
    "import numpy as np"
   ]
  },
  {
   "cell_type": "code",
   "execution_count": 16,
   "metadata": {},
   "outputs": [],
   "source": [
    "samfile = pysam.AlignmentFile(\"A549.bam\", \"rb\")\n"
   ]
  },
  {
   "cell_type": "code",
   "execution_count": 17,
   "metadata": {},
   "outputs": [],
   "source": [
    "\n",
    "def reverse_read(read) -> bool:\n",
    "    return read.is_reverse\n",
    "\n",
    "def forward_read(read) -> bool:\n",
    "    return not read.is_reverse"
   ]
  },
  {
   "cell_type": "code",
   "execution_count": 5,
   "metadata": {},
   "outputs": [],
   "source": [
    "covs=samfile.count_coverage(contig='chr1', start=10000 -5, stop=10000 + 10, quality_threshold=15, read_callback=reverse_read)"
   ]
  },
  {
   "cell_type": "code",
   "execution_count": 18,
   "metadata": {},
   "outputs": [
    {
     "data": {
      "text/plain": [
       "(array('L', [0, 0, 0, 0, 0, 0, 92, 102, 0, 0, 0, 0, 145, 147, 0]),\n",
       " array('L', [0, 0, 0, 0, 0, 0, 0, 0, 116, 128, 136, 0, 0, 0, 151]),\n",
       " array('L', [0, 0, 0, 0, 0, 0, 0, 0, 0, 0, 0, 0, 0, 0, 0]),\n",
       " array('L', [0, 0, 0, 0, 0, 62, 0, 0, 0, 0, 0, 142, 0, 0, 0]))"
      ]
     },
     "execution_count": 18,
     "metadata": {},
     "output_type": "execute_result"
    }
   ],
   "source": [
    "samfile.count_coverage(contig='chr1', start=10000 -5, stop=10000 + 10, quality_threshold=15, read_callback=forward_read)"
   ]
  },
  {
   "cell_type": "code",
   "execution_count": 19,
   "metadata": {},
   "outputs": [
    {
     "data": {
      "text/html": [
       "<div>\n",
       "<style scoped>\n",
       "    .dataframe tbody tr th:only-of-type {\n",
       "        vertical-align: middle;\n",
       "    }\n",
       "\n",
       "    .dataframe tbody tr th {\n",
       "        vertical-align: top;\n",
       "    }\n",
       "\n",
       "    .dataframe thead th {\n",
       "        text-align: right;\n",
       "    }\n",
       "</style>\n",
       "<table border=\"1\" class=\"dataframe\">\n",
       "  <thead>\n",
       "    <tr style=\"text-align: right;\">\n",
       "      <th></th>\n",
       "      <th>N_A</th>\n",
       "      <th>N_C</th>\n",
       "      <th>N_G</th>\n",
       "      <th>N_T</th>\n",
       "    </tr>\n",
       "  </thead>\n",
       "  <tbody>\n",
       "    <tr>\n",
       "      <th>0</th>\n",
       "      <td>283</td>\n",
       "      <td>0</td>\n",
       "      <td>1</td>\n",
       "      <td>0</td>\n",
       "    </tr>\n",
       "    <tr>\n",
       "      <th>1</th>\n",
       "      <td>0</td>\n",
       "      <td>105</td>\n",
       "      <td>1</td>\n",
       "      <td>169</td>\n",
       "    </tr>\n",
       "    <tr>\n",
       "      <th>2</th>\n",
       "      <td>0</td>\n",
       "      <td>0</td>\n",
       "      <td>0</td>\n",
       "      <td>284</td>\n",
       "    </tr>\n",
       "    <tr>\n",
       "      <th>3</th>\n",
       "      <td>283</td>\n",
       "      <td>0</td>\n",
       "      <td>1</td>\n",
       "      <td>0</td>\n",
       "    </tr>\n",
       "    <tr>\n",
       "      <th>4</th>\n",
       "      <td>289</td>\n",
       "      <td>0</td>\n",
       "      <td>2</td>\n",
       "      <td>0</td>\n",
       "    </tr>\n",
       "    <tr>\n",
       "      <th>5</th>\n",
       "      <td>114</td>\n",
       "      <td>0</td>\n",
       "      <td>163</td>\n",
       "      <td>0</td>\n",
       "    </tr>\n",
       "    <tr>\n",
       "      <th>6</th>\n",
       "      <td>1</td>\n",
       "      <td>107</td>\n",
       "      <td>0</td>\n",
       "      <td>171</td>\n",
       "    </tr>\n",
       "    <tr>\n",
       "      <th>7</th>\n",
       "      <td>282</td>\n",
       "      <td>0</td>\n",
       "      <td>2</td>\n",
       "      <td>0</td>\n",
       "    </tr>\n",
       "    <tr>\n",
       "      <th>8</th>\n",
       "      <td>1</td>\n",
       "      <td>107</td>\n",
       "      <td>0</td>\n",
       "      <td>169</td>\n",
       "    </tr>\n",
       "    <tr>\n",
       "      <th>9</th>\n",
       "      <td>288</td>\n",
       "      <td>0</td>\n",
       "      <td>4</td>\n",
       "      <td>0</td>\n",
       "    </tr>\n",
       "    <tr>\n",
       "      <th>10</th>\n",
       "      <td>0</td>\n",
       "      <td>107</td>\n",
       "      <td>1</td>\n",
       "      <td>169</td>\n",
       "    </tr>\n",
       "    <tr>\n",
       "      <th>11</th>\n",
       "      <td>282</td>\n",
       "      <td>0</td>\n",
       "      <td>0</td>\n",
       "      <td>0</td>\n",
       "    </tr>\n",
       "    <tr>\n",
       "      <th>12</th>\n",
       "      <td>116</td>\n",
       "      <td>0</td>\n",
       "      <td>161</td>\n",
       "      <td>0</td>\n",
       "    </tr>\n",
       "    <tr>\n",
       "      <th>13</th>\n",
       "      <td>274</td>\n",
       "      <td>1</td>\n",
       "      <td>3</td>\n",
       "      <td>0</td>\n",
       "    </tr>\n",
       "    <tr>\n",
       "      <th>14</th>\n",
       "      <td>111</td>\n",
       "      <td>0</td>\n",
       "      <td>158</td>\n",
       "      <td>0</td>\n",
       "    </tr>\n",
       "    <tr>\n",
       "      <th>15</th>\n",
       "      <td>274</td>\n",
       "      <td>0</td>\n",
       "      <td>1</td>\n",
       "      <td>0</td>\n",
       "    </tr>\n",
       "    <tr>\n",
       "      <th>16</th>\n",
       "      <td>271</td>\n",
       "      <td>1</td>\n",
       "      <td>0</td>\n",
       "      <td>0</td>\n",
       "    </tr>\n",
       "    <tr>\n",
       "      <th>17</th>\n",
       "      <td>0</td>\n",
       "      <td>0</td>\n",
       "      <td>2</td>\n",
       "      <td>265</td>\n",
       "    </tr>\n",
       "    <tr>\n",
       "      <th>18</th>\n",
       "      <td>273</td>\n",
       "      <td>0</td>\n",
       "      <td>0</td>\n",
       "      <td>0</td>\n",
       "    </tr>\n",
       "    <tr>\n",
       "      <th>19</th>\n",
       "      <td>270</td>\n",
       "      <td>0</td>\n",
       "      <td>2</td>\n",
       "      <td>0</td>\n",
       "    </tr>\n",
       "    <tr>\n",
       "      <th>20</th>\n",
       "      <td>0</td>\n",
       "      <td>1</td>\n",
       "      <td>3</td>\n",
       "      <td>268</td>\n",
       "    </tr>\n",
       "    <tr>\n",
       "      <th>21</th>\n",
       "      <td>108</td>\n",
       "      <td>0</td>\n",
       "      <td>155</td>\n",
       "      <td>0</td>\n",
       "    </tr>\n",
       "    <tr>\n",
       "      <th>22</th>\n",
       "      <td>0</td>\n",
       "      <td>0</td>\n",
       "      <td>0</td>\n",
       "      <td>262</td>\n",
       "    </tr>\n",
       "    <tr>\n",
       "      <th>23</th>\n",
       "      <td>0</td>\n",
       "      <td>98</td>\n",
       "      <td>0</td>\n",
       "      <td>157</td>\n",
       "    </tr>\n",
       "    <tr>\n",
       "      <th>24</th>\n",
       "      <td>0</td>\n",
       "      <td>0</td>\n",
       "      <td>2</td>\n",
       "      <td>263</td>\n",
       "    </tr>\n",
       "    <tr>\n",
       "      <th>25</th>\n",
       "      <td>265</td>\n",
       "      <td>0</td>\n",
       "      <td>2</td>\n",
       "      <td>0</td>\n",
       "    </tr>\n",
       "    <tr>\n",
       "      <th>26</th>\n",
       "      <td>104</td>\n",
       "      <td>2</td>\n",
       "      <td>156</td>\n",
       "      <td>0</td>\n",
       "    </tr>\n",
       "    <tr>\n",
       "      <th>27</th>\n",
       "      <td>250</td>\n",
       "      <td>0</td>\n",
       "      <td>6</td>\n",
       "      <td>0</td>\n",
       "    </tr>\n",
       "    <tr>\n",
       "      <th>28</th>\n",
       "      <td>258</td>\n",
       "      <td>0</td>\n",
       "      <td>3</td>\n",
       "      <td>1</td>\n",
       "    </tr>\n",
       "    <tr>\n",
       "      <th>29</th>\n",
       "      <td>1</td>\n",
       "      <td>1</td>\n",
       "      <td>0</td>\n",
       "      <td>256</td>\n",
       "    </tr>\n",
       "    <tr>\n",
       "      <th>30</th>\n",
       "      <td>1</td>\n",
       "      <td>95</td>\n",
       "      <td>2</td>\n",
       "      <td>149</td>\n",
       "    </tr>\n",
       "    <tr>\n",
       "      <th>31</th>\n",
       "      <td>1</td>\n",
       "      <td>2</td>\n",
       "      <td>3</td>\n",
       "      <td>250</td>\n",
       "    </tr>\n",
       "    <tr>\n",
       "      <th>32</th>\n",
       "      <td>101</td>\n",
       "      <td>0</td>\n",
       "      <td>148</td>\n",
       "      <td>1</td>\n",
       "    </tr>\n",
       "    <tr>\n",
       "      <th>33</th>\n",
       "      <td>252</td>\n",
       "      <td>0</td>\n",
       "      <td>2</td>\n",
       "      <td>1</td>\n",
       "    </tr>\n",
       "    <tr>\n",
       "      <th>34</th>\n",
       "      <td>104</td>\n",
       "      <td>1</td>\n",
       "      <td>145</td>\n",
       "      <td>0</td>\n",
       "    </tr>\n",
       "    <tr>\n",
       "      <th>35</th>\n",
       "      <td>2</td>\n",
       "      <td>3</td>\n",
       "      <td>6</td>\n",
       "      <td>246</td>\n",
       "    </tr>\n",
       "    <tr>\n",
       "      <th>36</th>\n",
       "      <td>103</td>\n",
       "      <td>1</td>\n",
       "      <td>141</td>\n",
       "      <td>0</td>\n",
       "    </tr>\n",
       "    <tr>\n",
       "      <th>37</th>\n",
       "      <td>0</td>\n",
       "      <td>91</td>\n",
       "      <td>4</td>\n",
       "      <td>145</td>\n",
       "    </tr>\n",
       "    <tr>\n",
       "      <th>38</th>\n",
       "      <td>0</td>\n",
       "      <td>98</td>\n",
       "      <td>0</td>\n",
       "      <td>143</td>\n",
       "    </tr>\n",
       "    <tr>\n",
       "      <th>39</th>\n",
       "      <td>242</td>\n",
       "      <td>0</td>\n",
       "      <td>9</td>\n",
       "      <td>0</td>\n",
       "    </tr>\n",
       "    <tr>\n",
       "      <th>40</th>\n",
       "      <td>0</td>\n",
       "      <td>0</td>\n",
       "      <td>1</td>\n",
       "      <td>253</td>\n",
       "    </tr>\n",
       "    <tr>\n",
       "      <th>41</th>\n",
       "      <td>91</td>\n",
       "      <td>2</td>\n",
       "      <td>151</td>\n",
       "      <td>0</td>\n",
       "    </tr>\n",
       "    <tr>\n",
       "      <th>42</th>\n",
       "      <td>0</td>\n",
       "      <td>1</td>\n",
       "      <td>1</td>\n",
       "      <td>249</td>\n",
       "    </tr>\n",
       "    <tr>\n",
       "      <th>43</th>\n",
       "      <td>4</td>\n",
       "      <td>0</td>\n",
       "      <td>0</td>\n",
       "      <td>248</td>\n",
       "    </tr>\n",
       "    <tr>\n",
       "      <th>44</th>\n",
       "      <td>248</td>\n",
       "      <td>1</td>\n",
       "      <td>5</td>\n",
       "      <td>0</td>\n",
       "    </tr>\n",
       "    <tr>\n",
       "      <th>45</th>\n",
       "      <td>0</td>\n",
       "      <td>0</td>\n",
       "      <td>0</td>\n",
       "      <td>249</td>\n",
       "    </tr>\n",
       "    <tr>\n",
       "      <th>46</th>\n",
       "      <td>2</td>\n",
       "      <td>88</td>\n",
       "      <td>0</td>\n",
       "      <td>148</td>\n",
       "    </tr>\n",
       "    <tr>\n",
       "      <th>47</th>\n",
       "      <td>242</td>\n",
       "      <td>0</td>\n",
       "      <td>3</td>\n",
       "      <td>0</td>\n",
       "    </tr>\n",
       "    <tr>\n",
       "      <th>48</th>\n",
       "      <td>242</td>\n",
       "      <td>1</td>\n",
       "      <td>3</td>\n",
       "      <td>0</td>\n",
       "    </tr>\n",
       "    <tr>\n",
       "      <th>49</th>\n",
       "      <td>246</td>\n",
       "      <td>0</td>\n",
       "      <td>3</td>\n",
       "      <td>0</td>\n",
       "    </tr>\n",
       "    <tr>\n",
       "      <th>50</th>\n",
       "      <td>2</td>\n",
       "      <td>2</td>\n",
       "      <td>1</td>\n",
       "      <td>234</td>\n",
       "    </tr>\n",
       "    <tr>\n",
       "      <th>51</th>\n",
       "      <td>2</td>\n",
       "      <td>2</td>\n",
       "      <td>0</td>\n",
       "      <td>244</td>\n",
       "    </tr>\n",
       "    <tr>\n",
       "      <th>52</th>\n",
       "      <td>92</td>\n",
       "      <td>0</td>\n",
       "      <td>153</td>\n",
       "      <td>1</td>\n",
       "    </tr>\n",
       "    <tr>\n",
       "      <th>53</th>\n",
       "      <td>0</td>\n",
       "      <td>0</td>\n",
       "      <td>2</td>\n",
       "      <td>246</td>\n",
       "    </tr>\n",
       "    <tr>\n",
       "      <th>54</th>\n",
       "      <td>246</td>\n",
       "      <td>1</td>\n",
       "      <td>3</td>\n",
       "      <td>0</td>\n",
       "    </tr>\n",
       "  </tbody>\n",
       "</table>\n",
       "</div>"
      ],
      "text/plain": [
       "    N_A  N_C  N_G  N_T\n",
       "0   283    0    1    0\n",
       "1     0  105    1  169\n",
       "2     0    0    0  284\n",
       "3   283    0    1    0\n",
       "4   289    0    2    0\n",
       "5   114    0  163    0\n",
       "6     1  107    0  171\n",
       "7   282    0    2    0\n",
       "8     1  107    0  169\n",
       "9   288    0    4    0\n",
       "10    0  107    1  169\n",
       "11  282    0    0    0\n",
       "12  116    0  161    0\n",
       "13  274    1    3    0\n",
       "14  111    0  158    0\n",
       "15  274    0    1    0\n",
       "16  271    1    0    0\n",
       "17    0    0    2  265\n",
       "18  273    0    0    0\n",
       "19  270    0    2    0\n",
       "20    0    1    3  268\n",
       "21  108    0  155    0\n",
       "22    0    0    0  262\n",
       "23    0   98    0  157\n",
       "24    0    0    2  263\n",
       "25  265    0    2    0\n",
       "26  104    2  156    0\n",
       "27  250    0    6    0\n",
       "28  258    0    3    1\n",
       "29    1    1    0  256\n",
       "30    1   95    2  149\n",
       "31    1    2    3  250\n",
       "32  101    0  148    1\n",
       "33  252    0    2    1\n",
       "34  104    1  145    0\n",
       "35    2    3    6  246\n",
       "36  103    1  141    0\n",
       "37    0   91    4  145\n",
       "38    0   98    0  143\n",
       "39  242    0    9    0\n",
       "40    0    0    1  253\n",
       "41   91    2  151    0\n",
       "42    0    1    1  249\n",
       "43    4    0    0  248\n",
       "44  248    1    5    0\n",
       "45    0    0    0  249\n",
       "46    2   88    0  148\n",
       "47  242    0    3    0\n",
       "48  242    1    3    0\n",
       "49  246    0    3    0\n",
       "50    2    2    1  234\n",
       "51    2    2    0  244\n",
       "52   92    0  153    1\n",
       "53    0    0    2  246\n",
       "54  246    1    3    0"
      ]
     },
     "execution_count": 19,
     "metadata": {},
     "output_type": "execute_result"
    }
   ],
   "source": [
    "N_A, N_C, N_G, N_T = samfile.count_coverage(contig='chr1', \n",
    "                       start=100000, stop=100000 + 55, \n",
    "                       quality_threshold=15, \n",
    "                       read_callback='all'\n",
    "                       )\n",
    "pd.DataFrame({'N_A': N_A, 'N_C': N_C, 'N_G': N_G, 'N_T': N_T})"
   ]
  },
  {
   "cell_type": "code",
   "execution_count": 1,
   "metadata": {},
   "outputs": [],
   "source": [
    "dna = 'ATGCCTTTTACACTTGGTCAACGCTGGATCAGCGATACAGAAAGCGAATTGGGACTTGGAACCGTTGTCGCGGTGGATGCGCGAACTGTCACTTTACTTTTCCCATCTACTGGTGAAAACCGTCTGTACGCACGCAGTGATTCCCCCGTGACCCGCGTGATGTTCAACCCTGGTGATACCATTACCAGCCATGACGGCTGGCAGATGCAAGTCGAAGAAGTAAAAGAAGAAAATGGCTTGCTGACCTATATCGGTACTCGCCTGGATACTGAAGAGTCCGGCGTAGCCCTGCGTGAAGTTTTCCTTGATAGCAAACTGGTGTTCAGCAAACCGCAGGACCGTCTGTTTGCCGGGCAGATTGACCGTATGGACCGCTTTGCGCTGCGTTATCGCGCGCGTAAATATTCCAGCGAACAGTTCCGTATGCCGTACAGCGGCCTGCGCGGTCAGCGTACCAGCCTGATCCCGCATCAGCTCAACATCGCTCATGATGTTGGTCGCCGCCACGCGCCGCGCGTCCTGCTGGCTGACGAAGTGGGTTTAGGGAAAACCATTGAAGCCGGGATGATCCTGCATCAGCAACTGCTCTCTGGCGCTGCTGAACGTGTGCTAATTATCGTCCCGGAAACCTTACAGCATCAGTGGCTGGTAGAAATGCTGCGCCGTTTCAACCTGCGCTTTGCGCTATTTGATGATGAGCGTTATGCCGAAGCTCAGCACGATGCTTACAACCCGTTTGACACCGAACAGCTGGTGATTTGCTCGCTGGATTTTGCCCGTCGTAGCAAACAGCGCCTGGAACATCTCTGTGAAGCCGAATGGGACCTGCTGGTGGTCGATGAAGCGCATCACCTGGTGTGGAGCGAAGATGCGCCAAGCCGTGAATATCAGGCCATTGAACAACTGGCAGAGCACGTGCCGGGCGTTCTGCTGCTGACCGCGACCCCGGAACAGCTGGGGATGGAAAGCCACTTCGCCCGTCTGCGTCTGCTGGACCCGAACCGTTTCCACGATTTTGCGCAGTTCGTTGAAGAGCAGAAAAATTATCGTCCGGTTGCGGACGCCGTTGCCATGCTGCTGGCAGGTAACAAACTGAGCAATGACGAACTGAACATGCTCGGCGAGATGATCGGCGAGCAGGATATCGAGCCGCTGTTGCAGGCAGCAAACAGCGACAGCGAAGATGCCCAGAGCGCCCGTCAGGAGCTGGTTTCGATGCTGATGGATCGCCACGGCACCAGCCGCGTGCTGTTCCGTAACACGCGTAACGGTGTGAAAGGATTCCCGAAACGCGAGCTGCACACCATTAAGCTGCCGCTACCGACGCAGTATCAGACGGCTATTAAAGTCTCCGGCATTATGGGCGCACGTAAAAGTGCGGAAGATCGTGCTCGCGATATGCTCTACCCGGAGCGTATTTATCAGGAATTTGAAGGTGATAACGCCACCTGGTGGAACTTCGATCCGCGCGTTGAGTGGCTGATGGGCTACCTGACCAGCCATCGCTCTCAGAAAGTGCTGGTGATCTGCGCCAAAGCTGCCACTGCGCTGCAACTGGAGCAGGTACTGCGCGAACGTGAAGGTATTCGCGCTGCGGTGTTCCACGAAGGTATGTCGATTATCGAACGTGACCGCGCTGCCGCCTGGTTTGCCGAAGAAGACACCGGCGCACAGGTACTGCTGTGCTCAGAAATCGGTTCTGAAGGACGTAACTTCCAGTTCGCCAGCCACATGGTGATGTTTGACCTGCCATTCAACCCGGATCTACTGGAGCAGCGTATTGGTCGTCTGGATCGTATCGGCCAGGCGCACGATATTCAGATCCATGTGCCTTATCTGGAGAAAACCGCTCAGTCGGTGCTGGTGCGCTGGTATCACGAAGGTCTGGATGCATTTGAGCACACCTGCCCGACCGGACGCACTATTTACGATAGCGTATACAACGATCTGATTAACTATCTGGCTTCACCGGATCAAACCGAAGGCTTTGACGATCTGATCAAAAACTGCCGCGAGCAACATGAAGCGCTGAAAGCACAGCTGGAACAGGGTCGTGACCGCCTGCTGGAAATCCACTCCAACGGTGGCGAAAAAGCCCAGGCACTGGCAGAAAGCATTGAAGAGCAGGATGACGATACCAACCTGATCGCCTTCGCCATGAACCTGTTCGATATTATCGGTATCAATCAGGACGATCGCGGCGACAACATGATCGTGCTGACGCCGTCCGATCATATGCTGGTGCCGGACTTCCCTGGCCTGTCGGAAGATGGCATCACCATCACCTTTGATCGTGAAGTGGCGCTGGCGCGTGAAGATGCACAGTTTATTACCTGGGAGCATCCGCTGATCCGCAACGGTCTGGATCTGATCCTTTCTGGCGATACCGGTAGCAGCACGATTTCACTGTTAAAAAACAAAGCGTTGCCGGTAGGTACGCTGTTGGTGGAACTGATTTATGTGGTTGAAGCCCAGGCTCCGAAGCAGTTGCAGCTCAACCGCTTCCTGCCACCGACGCCGGTACGTATGCTGCTGGATAAAAACGGCAACAACCTGGCGGCGCAGGTAGAGTTTGAAACCTTTAACCGCCAGCTTAACGCGGTTAACCGTCACACCGGCAGCAAACTGGTTAACGCCGTGCAGCAGGATGTTCACGCTATCCTTCAACTGGGTGAAGCGCAGATCGAGAAATCTGCCCGTGCATTGATTGATGCAGCGCGTAACGAAGCCGACGAAAAACTGTCTGCCGAGCTGTCTCGTCTGGAAGCTCTGCGTGCAGTGAACCCGAACATTCGTGACGACGAACTGACCGCCATTGAGAGCAACCGTCAGCAGGTAATGGAAAGCCTGGATCAGGCAGGTTGGCGTCTGGATGCCCTGCGTTTGATCGTTGTAACGCATCAGTAA'\n"
   ]
  },
  {
   "cell_type": "code",
   "execution_count": 106,
   "metadata": {},
   "outputs": [],
   "source": [
    "m = {'A': '0', 'T': '1', 'C': '2', 'G': '3'}\n",
    "\n",
    "def DNA2Byte(dna):\n",
    "    L = len(dna)\n",
    "    r = ''\n",
    "    for i, d in enumerate(dna):\n",
    "        r += m[d]\n",
    "        if i % 4 == 3 or i == L-1: \n",
    "            yield int(r, 4).to_bytes(length=1, byteorder='big', signed=False)\n",
    "            r = ''\n"
   ]
  },
  {
   "cell_type": "code",
   "execution_count": null,
   "metadata": {},
   "outputs": [],
   "source": [
    "with open('t', 'wb') as f:\n",
    "    for d in DNA2Byte(dna):\n",
    "        f.write(d)\n",
    "        "
   ]
  },
  {
   "cell_type": "code",
   "execution_count": 107,
   "metadata": {},
   "outputs": [
    {
     "data": {
      "text/plain": [
       "[b'\\x1e', b'\\x95', b'H', b'\\x97', b'\\xd8', b'.', b'|', b'c', b'\\xb1', b'\\x02']"
      ]
     },
     "execution_count": 107,
     "metadata": {},
     "output_type": "execute_result"
    }
   ],
   "source": [
    "list(DNA2Byte('ATGCCTTTTACACTTGGTCAACGCTGGATCAGCGATAC'))"
   ]
  },
  {
   "cell_type": "code",
   "execution_count": 8,
   "metadata": {},
   "outputs": [
    {
     "data": {
      "text/plain": [
       "72"
      ]
     },
     "execution_count": 8,
     "metadata": {},
     "output_type": "execute_result"
    }
   ],
   "source": [
    "int(m['T']+m['A']+m['C']+m['A'], 4)"
   ]
  },
  {
   "cell_type": "code",
   "execution_count": 32,
   "metadata": {},
   "outputs": [],
   "source": [
    "import numpy as np\n",
    "import re\n",
    "import math"
   ]
  },
  {
   "cell_type": "code",
   "execution_count": 34,
   "metadata": {},
   "outputs": [],
   "source": [
    "def cf(f, count):\n",
    "    def _cf(gen):\n",
    "        try:\n",
    "            return next(gen) + 1 / _cf(gen)\n",
    "        except StopIteration:\n",
    "            return float('inf')\n",
    "    gen = fgen(f, count)\n",
    "    return _cf(gen)\n",
    "\n",
    "def fgen(f, count):\n",
    "    i = 0\n",
    "    while i <= count:\n",
    "        yield f(i)\n",
    "        i += 1"
   ]
  },
  {
   "cell_type": "code",
   "execution_count": 28,
   "metadata": {},
   "outputs": [],
   "source": [
    "def f2cf(val):\n",
    "    if isinstance(val, float):\n",
    "        val = str(val)\n",
    "    x, y = re.compile(r'[/, .]').split(val)\n",
    "    if '.' in val:\n",
    "        tmp = 10**len(y)\n",
    "        x = int(x) * tmp + int(y)\n",
    "        y = tmp\n",
    "    else:\n",
    "        x, y = int(x), int(y)\n",
    "    arr = []\n",
    "    gen = gcd(x, y)\n",
    "    for item in gen:\n",
    "        arr.append(item)\n",
    "    return arr\n",
    "\n",
    "def gcd(x, y):\n",
    "    while y:\n",
    "        yield x // y\n",
    "        x, y = y, x % y"
   ]
  },
  {
   "cell_type": "code",
   "execution_count": 60,
   "metadata": {},
   "outputs": [],
   "source": [
    "x = 8/np.log2(5)"
   ]
  },
  {
   "cell_type": "code",
   "execution_count": 69,
   "metadata": {},
   "outputs": [
    {
     "data": {
      "text/plain": [
       "-0.0009680201426998103"
      ]
     },
     "execution_count": 69,
     "metadata": {},
     "output_type": "execute_result"
    }
   ],
   "source": [
    "cf(lambda x: [3, 2, 4][x], 2) - x"
   ]
  },
  {
   "cell_type": "code",
   "execution_count": 72,
   "metadata": {},
   "outputs": [
    {
     "data": {
      "text/plain": [
       "0.9997190408542809"
      ]
     },
     "execution_count": 72,
     "metadata": {},
     "output_type": "execute_result"
    }
   ],
   "source": [
    "31*np.log2(5)/(9*8)"
   ]
  },
  {
   "cell_type": "code",
   "execution_count": null,
   "metadata": {},
   "outputs": [],
   "source": [
    "f2cf(x)"
   ]
  },
  {
   "cell_type": "code",
   "execution_count": 123,
   "metadata": {},
   "outputs": [
    {
     "data": {
      "text/plain": [
       "('6765c793fa10079c', 16)"
      ]
     },
     "execution_count": 123,
     "metadata": {},
     "output_type": "execute_result"
    }
   ],
   "source": [
    "s = '%x' % int('4'*27, 5)\n",
    "s, len(s)"
   ]
  },
  {
   "cell_type": "code",
   "execution_count": 136,
   "metadata": {},
   "outputs": [
    {
     "data": {
      "text/plain": [
       "10996163472490756195"
      ]
     },
     "execution_count": 136,
     "metadata": {},
     "output_type": "execute_result"
    }
   ],
   "source": [
    "int('1'* 64, 2) - int('4'*27, 5) - 2**32"
   ]
  },
  {
   "cell_type": "code",
   "execution_count": 137,
   "metadata": {},
   "outputs": [
    {
     "data": {
      "text/plain": [
       "4294967296"
      ]
     },
     "execution_count": 137,
     "metadata": {},
     "output_type": "execute_result"
    }
   ],
   "source": [
    "2**32"
   ]
  },
  {
   "cell_type": "code",
   "execution_count": 121,
   "metadata": {},
   "outputs": [
    {
     "data": {
      "text/plain": [
       "b'ge\\xc7\\x93\\xfa\\x10\\x07\\x9c'"
      ]
     },
     "execution_count": 121,
     "metadata": {},
     "output_type": "execute_result"
    }
   ],
   "source": [
    "int('4'*27, 5).to_bytes(length=8, byteorder='big', signed=False)"
   ]
  },
  {
   "cell_type": "code",
   "execution_count": 119,
   "metadata": {},
   "outputs": [
    {
     "data": {
      "text/plain": [
       "b'ge\\xc7\\x93\\xfa\\x10\\x07\\x9c'"
      ]
     },
     "execution_count": 119,
     "metadata": {},
     "output_type": "execute_result"
    }
   ],
   "source": [
    "a = bytes.fromhex('6765c793fa10079c')\n",
    "a"
   ]
  },
  {
   "cell_type": "code",
   "execution_count": 109,
   "metadata": {},
   "outputs": [],
   "source": [
    "with open('t', 'wb') as f:\n",
    "    f.write(a)"
   ]
  },
  {
   "cell_type": "code",
   "execution_count": 145,
   "metadata": {},
   "outputs": [
    {
     "data": {
      "text/plain": [
       "b'\\xe8\\x03'"
      ]
     },
     "execution_count": 145,
     "metadata": {},
     "output_type": "execute_result"
    }
   ],
   "source": [
    "x = 1000\n",
    "x.to_bytes((x.bit_length() + 7) // 8, byteorder='little')"
   ]
  },
  {
   "cell_type": "code",
   "execution_count": 146,
   "metadata": {},
   "outputs": [
    {
     "data": {
      "text/plain": [
       "b'\\x03\\xe8'"
      ]
     },
     "execution_count": 146,
     "metadata": {},
     "output_type": "execute_result"
    }
   ],
   "source": [
    "x.to_bytes((x.bit_length() + 7) // 8, byteorder='big')"
   ]
  },
  {
   "cell_type": "code",
   "execution_count": 147,
   "metadata": {},
   "outputs": [
    {
     "data": {
      "text/plain": [
       "'3e8'"
      ]
     },
     "execution_count": 147,
     "metadata": {},
     "output_type": "execute_result"
    }
   ],
   "source": [
    "'%x' % x"
   ]
  }
 ],
 "metadata": {
  "kernelspec": {
   "display_name": "pysam",
   "language": "python",
   "name": "python3"
  },
  "language_info": {
   "codemirror_mode": {
    "name": "ipython",
    "version": 3
   },
   "file_extension": ".py",
   "mimetype": "text/x-python",
   "name": "python",
   "nbconvert_exporter": "python",
   "pygments_lexer": "ipython3",
   "version": "3.9.13"
  }
 },
 "nbformat": 4,
 "nbformat_minor": 2
}
